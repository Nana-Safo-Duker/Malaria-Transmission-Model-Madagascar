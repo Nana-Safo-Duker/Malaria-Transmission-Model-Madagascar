{
  "cells": [
    {
      "cell_type": "markdown",
      "metadata": {},
      "source": [
        "# Simulating and Fitting Malaria Transmission Model in Madagascar\n",
        "\n",
        "This notebook simulates a malaria transmission model with Insecticide-Treated Nets (ITNs) and resistance effects in Madagascar. The model explores how ITN effectiveness changes over time due to insecticide resistance.\n",
        "\n",
        "## Model Overview\n",
        "\n",
        "The model is a modified SIR (Susceptible-Infected-Recovered) model that includes:\n",
        "- **Human population dynamics**: Susceptible (Sh), Infected (Ih), Recovered (Rh) compartments\n",
        "- **Vector population dynamics**: Susceptible (Sv), Infected (Iv) compartments  \n",
        "- **ITN effects**: Coverage and efficacy that decreases over time due to resistance\n",
        "- **Seasonal effects**: Vector mortality varies seasonally\n",
        "- **Resistance modeling**: Exponential decay of ITN effectiveness over time\n",
        "\n",
        "## Research Question\n",
        "\n",
        "How does insecticide resistance affect the long-term effectiveness of Insecticide-Treated Nets (ITNs) in malaria control programs in Madagascar?\n"
      ]
    },
    {
      "cell_type": "markdown",
      "metadata": {},
      "source": [
        "## 1. Load Required Libraries\n",
        "\n",
        "First, we load the necessary R packages for data manipulation, differential equation solving, and visualization.\n"
      ]
    },
    {
      "cell_type": "code",
      "execution_count": 13,
      "metadata": {
        "vscode": {
          "languageId": "r"
        }
      },
      "outputs": [
        {
          "name": "stdout",
          "output_type": "stream",
          "text": [
            "Libraries loaded successfully!\n",
            "Package versions:\n",
            " - tidyverse: 2.0.0\n",
            " - deSolve: 1.40\n",
            " - ggplot2: 4.0.0\n",
            " - dplyr: 1.1.4\n",
            " - readr: 2.1.5\n",
            " - tibble: 3.3.0\n",
            " - tidyr: 1.3.1\n",
            " - purrr: 1.1.0\n",
            " - stringr: 1.5.2\n",
            " - lubridate: 1.9.4\n",
            " - knitr: 1.50\n"
          ]
        }
      ],
      "source": [
        "# Load required libraries quietly and report versions\n",
        "options(digits = 4, scipen = 999, tidyverse.quiet = TRUE)\n",
        "\n",
        "suppressPackageStartupMessages({\n",
        "  suppressWarnings({\n",
        "    library(tidyverse)\n",
        "    library(deSolve)\n",
        "    library(ggplot2)\n",
        "    library(dplyr)\n",
        "    library(knitr)\n",
        "  })\n",
        "})\n",
        "options(dplyr.summarise.inform = FALSE)\n",
        "\n",
        "# Version report\n",
        "pkgs <- c(\"tidyverse\",\"deSolve\",\"ggplot2\",\"dplyr\",\"readr\",\"tibble\",\"tidyr\",\"purrr\",\"stringr\",\"lubridate\",\"knitr\")\n",
        "vers <- sapply(pkgs, function(p) if (requireNamespace(p, quietly = TRUE)) as.character(utils::packageVersion(p)) else NA_character_)\n",
        "\n",
        "cat(\"Libraries loaded successfully!\\n\")\n",
        "cat(\"Package versions:\\n\")\n",
        "for (p in names(vers)) cat(sprintf(\" - %s: %s\\n\", p, vers[[p]]))\n",
        "\n",
        "# Prefer dplyr's filter/lag if conflicted is installed\n",
        "if (requireNamespace(\"conflicted\", quietly = TRUE)) {\n",
        "  conflicted::conflict_prefer(\"filter\", \"dplyr\", quiet = TRUE)\n",
        "  conflicted::conflict_prefer(\"lag\", \"dplyr\", quiet = TRUE)\n",
        "}\n"
      ]
    },
    {
      "cell_type": "markdown",
      "metadata": {},
      "source": [
        "## 2. Define the SIR Model with ITN Effects and Resistance\n",
        "\n",
        "The core of our analysis is a modified SIR model that incorporates:\n",
        "\n",
        "### Model Components:\n",
        "- **Human compartments**: S (Susceptible), I (Infected), R (Recovered)\n",
        "- **Vector compartments**: S (Susceptible), I (Infected)\n",
        "- **ITN effects**: Coverage and time-dependent efficacy\n",
        "- **Resistance effects**: Exponential decay of ITN effectiveness\n",
        "- **Seasonal effects**: Sinusoidal variation in vector mortality\n",
        "\n",
        "### Mathematical Formulation:\n",
        "\n",
        "The model consists of five differential equations:\n",
        "\n",
        "$$\\frac{dS_h}{dt} = -\\beta_{v \\to h} S_h \\frac{N_v}{N_h} \\frac{I_v}{N_v} \\frac{1}{4} + \\alpha R_h$$\n",
        "\n",
        "$$\\frac{dI_h}{dt} = \\beta_{v \\to h} S_h \\frac{N_v}{N_h} \\frac{I_v}{N_v} \\frac{1}{4} - \\gamma_h I_h$$\n",
        "\n",
        "$$\\frac{dR_h}{dt} = \\gamma_h I_h - \\alpha R_h$$\n",
        "\n",
        "$$\\frac{dS_v}{dt} = r N_v \\left(1 - \\frac{N_v}{K}\\right) - \\beta_{h \\to v} S_v \\frac{I_h}{N_h} \\frac{1}{4} - \\frac{1 + \\sin(2\\pi t/365)}{5} d S_v$$\n",
        "\n",
        "$$\\frac{dI_v}{dt} = \\beta_{h \\to v} S_v \\frac{I_h}{N_h} \\frac{1}{4} - \\frac{1 + \\sin(2\\pi t/365)}{5} d I_v$$\n",
        "\n",
        "Where ITN effectiveness decreases over time: $E(t) = E_0 \\exp(-r_{res} \\cdot t/365)$\n"
      ]
    },
    {
      "cell_type": "code",
      "execution_count": 14,
      "metadata": {
        "vscode": {
          "languageId": "r"
        }
      },
      "outputs": [
        {
          "name": "stdout",
          "output_type": "stream",
          "text": [
            "Model function defined successfully!\n",
            "Model includes:\n",
            "- Human compartments: Sh, Ih, Rh\n",
            "- Vector compartments: Sv, Iv\n",
            "- ITN effects with resistance\n",
            "- Seasonal vector mortality\n"
          ]
        }
      ],
      "source": [
        "# Define the SIR model with ITN effects and resistance\n",
        "sir_si_itn <- function(t, y, parms) {\n",
        "  with(as.list(c(y, parms)), {\n",
        "    # Population sizes\n",
        "    Nh  <-  Sh + Ih + Rh\n",
        "    Nv  <-  Sv + Iv \n",
        "    \n",
        "    # ITN effectiveness decreases over time due to resistance\n",
        "    current_efficacy <- itn_efficacy * exp(-resistance_rate * t/365)\n",
        "    \n",
        "    # Effective ITN coverage (coverage * current efficacy)\n",
        "    effective_itn_coverage <- itn_coverage * current_efficacy\n",
        "    \n",
        "    # Transmission reduction factor due to ITNs\n",
        "    transmission_reduction <- (1 - effective_itn_coverage)\n",
        "    \n",
        "    # Modified transmission rates with ITN effects\n",
        "    beta_h_to_v <- beta * transmission_reduction\n",
        "    beta_v_to_h <- beta * transmission_reduction\n",
        "    \n",
        "    # Differential equations\n",
        "    dSh <-  -beta_v_to_h*Sh*(Nv/Nh)*(Iv/Nv)/4 + (alpha*Rh)\n",
        "    dIh <-  beta_v_to_h*Sh*(Nv/Nh)*(Iv/Nv)/4 - (gammah*Ih)\n",
        "    dRh <-  (gammah*Ih) - (alpha*Rh)\n",
        "    dSv <-  r*Nv*(1-(Nv/K)) - beta_h_to_v*Sv*(Ih/Nh)/4 - (1+sin(t*2*pi/365))/5* d*Sv\n",
        "    dIv <-  beta_h_to_v*Sv*(Ih/Nh)/4 - (1+sin(t*2*pi/365))/5*d*Iv\n",
        "    \n",
        "    return(list(c(dSh, dIh, dRh, dSv, dIv)))\n",
        "  })\n",
        "}\n",
        "\n",
        "cat(\"Model function defined successfully!\\n\")\n",
        "cat(\"Model includes:\\n\")\n",
        "cat(\"- Human compartments: Sh, Ih, Rh\\n\")\n",
        "cat(\"- Vector compartments: Sv, Iv\\n\")\n",
        "cat(\"- ITN effects with resistance\\n\")\n",
        "cat(\"- Seasonal vector mortality\\n\")\n"
      ]
    },
    {
      "cell_type": "markdown",
      "metadata": {},
      "source": [
        "## 3. Define Model Parameters\n",
        "\n",
        "We set up the epidemiological parameters based on malaria transmission characteristics in Madagascar:\n",
        "\n",
        "### Basic Epidemiological Parameters:\n",
        "- **R₀ = 2**: Basic reproduction number (typical for malaria in endemic areas)\n",
        "- **Infectious period**: 14 days (average duration of malaria infection)\n",
        "- **Immunity loss rate**: 1/365 per day (immunity lasts ~1 year)\n",
        "\n",
        "### Vector Parameters:\n",
        "- **Carrying capacity**: 500,000 vectors\n",
        "- **Vector birth rate**: 0.08 per day\n",
        "- **Vector death rate**: 1/28 per day (baseline)\n",
        "\n",
        "### ITN Parameters:\n",
        "- **Coverage**: 80% of population\n",
        "- **Initial efficacy**: 90%\n",
        "- **Resistance rate**: 10% per year (high resistance scenario)\n"
      ]
    },
    {
      "cell_type": "code",
      "execution_count": 15,
      "metadata": {
        "vscode": {
          "languageId": "r"
        }
      },
      "outputs": [
        {
          "name": "stdout",
          "output_type": "stream",
          "text": [
            "Model Parameters:\n",
            "================\n",
            "beta           :   0.1429\n",
            "gammah         :   0.0714\n",
            "K              : 500000.0000\n",
            "d              :   0.0357\n",
            "r              :   0.0800\n",
            "alpha          :   0.0027\n",
            "itn_coverage   :   0.8000\n",
            "itn_efficacy   :   0.9000\n",
            "resistance_rate:   0.1000\n",
            "\n",
            "Key derived values:\n",
            "R0 (Basic reproduction number): 2 \n",
            "Effective R0 with ITNs (no resistance): 0.56 \n",
            "Effective R0 with ITNs (high resistance, year 5): 1.127 \n"
          ]
        }
      ],
      "source": [
        "# Time points for simulation (5 years)\n",
        "dt <- (1:365) * 5 \n",
        "\n",
        "# Basic epidemiological parameters\n",
        "R0 <- 2\n",
        "infectious_period <- 14\n",
        "gammah <- 1/infectious_period\n",
        "alpha <- 1/365\n",
        "beta <- R0 * gammah\n",
        "\n",
        "# Vector parameters\n",
        "K <- 5e5\n",
        "d <- 1/28\n",
        "r <- 0.08\n",
        "\n",
        "# ITN parameters\n",
        "itn_coverage <- 0.8\n",
        "itn_efficacy <- 0.9\n",
        "resistance_rate <- 0.1\n",
        "\n",
        "# Parameter vector\n",
        "params <- c(\n",
        "  beta = beta,\n",
        "  gammah = gammah,\n",
        "  K = K, d = d, r = r,\n",
        "  alpha = alpha,\n",
        "  itn_coverage = itn_coverage,\n",
        "  itn_efficacy = itn_efficacy,\n",
        "  resistance_rate = resistance_rate\n",
        ")\n",
        "\n",
        "# Display parameters\n",
        "cat(\"Model Parameters:\\n\")\n",
        "cat(\"================\\n\")\n",
        "for(i in 1:length(params)) {\n",
        "  cat(sprintf(\"%-15s: %8.4f\\n\", names(params)[i], params[i]))\n",
        "}\n",
        "\n",
        "cat(\"\\nKey derived values:\\n\")\n",
        "cat(\"R0 (Basic reproduction number):\", R0, \"\\n\")\n",
        "cat(\"Effective R0 with ITNs (no resistance):\", R0 * (1 - itn_coverage * itn_efficacy), \"\\n\")\n",
        "cat(\"Effective R0 with ITNs (high resistance, year 5):\", \n",
        "    R0 * (1 - itn_coverage * itn_efficacy * exp(-resistance_rate * 5)), \"\\n\")\n"
      ]
    },
    {
      "cell_type": "markdown",
      "metadata": {},
      "source": [
        "## 4. Set Initial Conditions\n",
        "\n",
        "We define the initial state of the population for our simulations:\n",
        "\n",
        "### Population Setup:\n",
        "- **Human population**: 200,000 individuals\n",
        "- **Vector population**: 400,000 individuals (2× human population)\n",
        "- **Initial infected humans**: 1 individual\n",
        "- **Initial infected vectors**: 10,000 individuals\n",
        "\n",
        "This represents a scenario where malaria is endemic but at relatively low levels initially.\n"
      ]
    },
    {
      "cell_type": "code",
      "execution_count": 16,
      "metadata": {
        "vscode": {
          "languageId": "r"
        }
      },
      "outputs": [
        {
          "name": "stdout",
          "output_type": "stream",
          "text": [
            "Initial Conditions:\n",
            "==================\n",
            "Human population:\n",
            "  Susceptible:   199999\n",
            "  Infected:          1\n",
            "  Recovered:         0\n",
            "  Total:        200000\n",
            "\n",
            "Vector population:\n",
            "  Susceptible:   390000\n",
            "  Infected:      10000\n",
            "  Total:        400000\n",
            "\n",
            "Population conservation check:\n",
            "Human population conserved: TRUE \n",
            "Vector population conserved: TRUE \n"
          ]
        }
      ],
      "source": [
        "# Population sizes\n",
        "Nh <- 200000\n",
        "Nv <- 2 * Nh\n",
        "\n",
        "# Initial infected individuals\n",
        "I0h <- 1\n",
        "I0v <- 10000\n",
        "\n",
        "# Initial conditions [Sh, Ih, Rh, Sv, Iv]\n",
        "inits <- c(\n",
        "  Sh = Nh - I0h,  # Susceptible humans\n",
        "  Ih = I0h,       # Infected humans\n",
        "  Rh = 0,         # Recovered humans\n",
        "  Sv = Nv - I0v,  # Susceptible vectors\n",
        "  Iv = I0v        # Infected vectors\n",
        ")\n",
        "\n",
        "# Display initial conditions\n",
        "cat(\"Initial Conditions:\\n\")\n",
        "cat(\"==================\\n\")\n",
        "cat(\"Human population:\\n\")\n",
        "cat(sprintf(\"  Susceptible: %8.0f\\n\", inits[\"Sh\"]))\n",
        "cat(sprintf(\"  Infected:   %8.0f\\n\", inits[\"Ih\"]))\n",
        "cat(sprintf(\"  Recovered:  %8.0f\\n\", inits[\"Rh\"]))\n",
        "cat(sprintf(\"  Total:      %8.0f\\n\", sum(inits[1:3])))\n",
        "\n",
        "cat(\"\\nVector population:\\n\")\n",
        "cat(sprintf(\"  Susceptible: %8.0f\\n\", inits[\"Sv\"]))\n",
        "cat(sprintf(\"  Infected:   %8.0f\\n\", inits[\"Iv\"]))\n",
        "cat(sprintf(\"  Total:      %8.0f\\n\", sum(inits[4:5])))\n",
        "\n",
        "# Verify population conservation\n",
        "cat(\"\\nPopulation conservation check:\\n\")\n",
        "cat(\"Human population conserved:\", all.equal(sum(inits[1:3]), Nh), \"\\n\")\n",
        "cat(\"Vector population conserved:\", all.equal(sum(inits[4:5]), Nv), \"\\n\")\n"
      ]
    },
    {
      "cell_type": "markdown",
      "metadata": {},
      "source": [
        "## 5. Run Simulations for Different Scenarios\n",
        "\n",
        "We simulate four different scenarios to compare ITN effectiveness:\n",
        "\n",
        "### Scenario 1: No ITNs (Baseline)\n",
        "- No insecticide-treated nets deployed\n",
        "- Represents the baseline malaria transmission\n",
        "\n",
        "### Scenario 2: ITNs with No Resistance\n",
        "- 80% ITN coverage with 90% efficacy\n",
        "- No resistance development over time\n",
        "- Represents ideal ITN implementation\n",
        "\n",
        "### Scenario 3: ITNs with Low Resistance\n",
        "- 80% ITN coverage with 90% initial efficacy\n",
        "- 5% resistance rate per year\n",
        "- Represents moderate resistance development\n",
        "\n",
        "### Scenario 4: ITNs with High Resistance\n",
        "- 80% ITN coverage with 90% initial efficacy\n",
        "- 10% resistance rate per year\n",
        "- Represents high resistance development\n"
      ]
    },
    {
      "cell_type": "code",
      "execution_count": 17,
      "metadata": {
        "vscode": {
          "languageId": "r"
        }
      },
      "outputs": [
        {
          "name": "stdout",
          "output_type": "stream",
          "text": [
            "Running Scenario 1: No ITNs...\n",
            "Running Scenario 2: ITNs (No Resistance)...\n",
            "Running Scenario 3: ITNs (Low Resistance)...\n",
            "Running Scenario 4: ITNs (High Resistance)...\n",
            "\n",
            "Simulations completed successfully!\n",
            "Total data points: 1460 \n",
            "Scenarios: No ITNs, ITNs (No Resistance), ITNs (Low Resistance), ITNs (High Resistance) \n",
            "Time range: 5 to 1825 days\n",
            "Simulation duration: 5 years\n"
          ]
        }
      ],
      "source": [
        "# Scenario 1: No ITNs\n",
        "cat(\"Running Scenario 1: No ITNs...\\n\")\n",
        "params_no_itn <- params\n",
        "params_no_itn[\"itn_coverage\"] <- 0\n",
        "\n",
        "results_no_itn <- deSolve::lsoda(\n",
        "  y = inits, times = dt, func = sir_si_itn,\n",
        "  parms = params_no_itn, hmax = 0.1\n",
        ") |> as.data.frame() |> mutate(scenario = \"No ITNs\")\n",
        "\n",
        "# Scenario 2: ITNs with no resistance\n",
        "cat(\"Running Scenario 2: ITNs (No Resistance)...\\n\")\n",
        "params_no_resistance <- params\n",
        "params_no_resistance[\"resistance_rate\"] <- 0\n",
        "\n",
        "results_no_resistance <- deSolve::lsoda(\n",
        "  y = inits, times = dt, func = sir_si_itn,\n",
        "  parms = params_no_resistance, hmax = 0.1\n",
        ") |> as.data.frame() |> mutate(scenario = \"ITNs (No Resistance)\")\n",
        "\n",
        "# Scenario 3: ITNs with low resistance\n",
        "cat(\"Running Scenario 3: ITNs (Low Resistance)...\\n\")\n",
        "params_low_resistance <- params\n",
        "params_low_resistance[\"resistance_rate\"] <- 0.05\n",
        "\n",
        "results_low_resistance <- deSolve::lsoda(\n",
        "  y = inits, times = dt, func = sir_si_itn,\n",
        "  parms = params_low_resistance, hmax = 0.1\n",
        ") |> as.data.frame() |> mutate(scenario = \"ITNs (Low Resistance)\")\n",
        "\n",
        "# Scenario 4: ITNs with high resistance\n",
        "cat(\"Running Scenario 4: ITNs (High Resistance)...\\n\")\n",
        "results_high_resistance <- deSolve::lsoda(\n",
        "  y = inits, times = dt, func = sir_si_itn,\n",
        "  parms = params, hmax = 0.1\n",
        ") |> as.data.frame() |> mutate(scenario = \"ITNs (High Resistance)\")\n",
        "\n",
        "# Combine all results\n",
        "all_results <- bind_rows(\n",
        "  results_no_itn,\n",
        "  results_no_resistance,\n",
        "  results_low_resistance,\n",
        "  results_high_resistance\n",
        ")\n",
        "\n",
        "cat(\"\\nSimulations completed successfully!\\n\")\n",
        "cat(\"Total data points:\", nrow(all_results), \"\\n\")\n",
        "cat(\"Scenarios:\", paste(unique(all_results$scenario), collapse = \", \"), \"\\n\")\n",
        "cat(\"Time range:\", min(all_results$time), \"to\", max(all_results$time), \"days\\n\")\n",
        "cat(\"Simulation duration:\", max(all_results$time)/365, \"years\\n\")\n"
      ]
    },
    {
      "cell_type": "markdown",
      "metadata": {},
      "source": [
        "## 6. Visualize Results\n",
        "\n",
        "We create comprehensive visualizations to analyze the model results and compare the effectiveness of ITNs under different resistance scenarios.\n"
      ]
    },
    {
      "cell_type": "code",
      "execution_count": 18,
      "metadata": {
        "vscode": {
          "languageId": "r"
        }
      },
      "outputs": [
        {
          "data": {
            "image/png": "[encoded data removed]",
            "text/plain": [
              "plot without title"
            ]
          },
          "metadata": {
            "image/png": {
              "height": 420,
              "width": 420
            }
          },
          "output_type": "display_data"
        }
      ],
      "source": [
        "# Set plotting theme\n",
        "theme_set(theme_minimal(base_size = 12))\n",
        "\n",
        "# Desired legend order and colors (match output.png)\n",
        "scenario_levels <- c(\n",
        "  \"ITNs (High Resistance)\",\n",
        "  \"ITNs (Low Resistance)\",\n",
        "  \"ITNs (No Resistance)\",\n",
        "  \"No ITNs\"\n",
        ")\n",
        "scenario_palette <- c(\n",
        "  \"ITNs (High Resistance)\" = \"#E64B35\",\n",
        "  \"ITNs (Low Resistance)\"  = \"#4CAF50\",\n",
        "  \"ITNs (No Resistance)\"   = \"#00BFC4\",\n",
        "  \"No ITNs\"               = \"#9B59B6\"\n",
        ")\n",
        "\n",
        "# Create the main visualization (humans)\n",
        "human_infected_plot <- all_results %>%\n",
        "  mutate(scenario = factor(scenario, levels = scenario_levels)) %>%\n",
        "  ggplot(aes(x = time, y = Ih, color = scenario)) +\n",
        "  geom_line(linewidth = 1.6) +\n",
        "  labs(\n",
        "    title = \"Malaria Incidence: Effect of ITNs and Resistance\",\n",
        "    subtitle = \"Infected Human Population Over Time\",\n",
        "    x = \"Time (days)\", \n",
        "    y = \"Number of Infected Humans\", \n",
        "    color = \"Scenario\"\n",
        "  ) +\n",
        "  scale_color_manual(values = scenario_palette, breaks = scenario_levels) +\n",
        "  scale_y_continuous(labels = scales::comma) +\n",
        "  theme_minimal() + \n",
        "  theme(\n",
        "    legend.position = \"bottom\",\n",
        "    legend.direction = \"horizontal\",\n",
        "    legend.title = element_text(face = \"bold\"),\n",
        "    axis.title = element_text(face = \"bold\"),\n",
        "    plot.title = element_text(size = 14, face = \"bold\"),\n",
        "    plot.subtitle = element_text(size = 12)\n",
        "  ) +\n",
        "  guides(color = guide_legend(override.aes = list(linewidth = 2)))\n",
        "\n",
        "print(human_infected_plot)\n"
      ]
    },
    {
      "cell_type": "code",
      "execution_count": 19,
      "metadata": {
        "vscode": {
          "languageId": "r"
        }
      },
      "outputs": [
        {
          "data": {
            "image/png": "[encoded data removed]",
            "text/plain": [
              "plot without title"
            ]
          },
          "metadata": {
            "image/png": {
              "height": 420,
              "width": 420
            }
          },
          "output_type": "display_data"
        }
      ],
      "source": [
        "# Vector infection plot (matching style)\n",
        "vector_infected_plot <- all_results %>%\n",
        "  mutate(scenario = factor(scenario, levels = scenario_levels)) %>%\n",
        "  ggplot(aes(x = time, y = Iv, color = scenario)) +\n",
        "  geom_line(linewidth = 1.6) +\n",
        "  labs(\n",
        "    title = \"Vector Infection: Effect of ITNs and Resistance\",\n",
        "    subtitle = \"Infected Vector Population Over Time\",\n",
        "    x = \"Time (days)\", \n",
        "    y = \"Number of Infected Vectors\", \n",
        "    color = \"Scenario\"\n",
        "  ) +\n",
        "  scale_color_manual(values = scenario_palette, breaks = scenario_levels) +\n",
        "  scale_y_continuous(labels = scales::comma) +\n",
        "  theme_minimal() + \n",
        "  theme(\n",
        "    legend.position = \"bottom\",\n",
        "    legend.direction = \"horizontal\",\n",
        "    legend.title = element_text(face = \"bold\"),\n",
        "    axis.title = element_text(face = \"bold\"),\n",
        "    plot.title = element_text(size = 14, face = \"bold\"),\n",
        "    plot.subtitle = element_text(size = 12)\n",
        "  ) +\n",
        "  guides(color = guide_legend(override.aes = list(linewidth = 2)))\n",
        "\n",
        "print(vector_infected_plot)\n"
      ]
    },
    {
      "cell_type": "code",
      "execution_count": 20,
      "metadata": {
        "vscode": {
          "languageId": "r"
        }
      },
      "outputs": [
        {
          "data": {
            "image/png": "[encoded data removed]",
            "text/plain": [
              "plot without title"
            ]
          },
          "metadata": {
            "image/png": {
              "height": 420,
              "width": 420
            }
          },
          "output_type": "display_data"
        }
      ],
      "source": [
        "# ITN efficacy over time (matching output_1.png style)\n",
        "efficacy_data <- data.frame(\n",
        "  time = dt,\n",
        "  efficacy_no_resistance = params_no_resistance[\"itn_efficacy\"] * exp(-params_no_resistance[\"resistance_rate\"] * dt/365),\n",
        "  efficacy_low_resistance = params_low_resistance[\"itn_efficacy\"] * exp(-params_low_resistance[\"resistance_rate\"] * dt/365),\n",
        "  efficacy_high_resistance = params[\"itn_efficacy\"] * exp(-params[\"resistance_rate\"] * dt/365)\n",
        ") %>%\n",
        "  pivot_longer(cols = -time, names_to = \"resistance_type\", values_to = \"efficacy\") %>%\n",
        "  mutate(resistance_type = case_when(\n",
        "    resistance_type == \"efficacy_no_resistance\" ~ \"No Resistance\",\n",
        "    resistance_type == \"efficacy_low_resistance\" ~ \"Low Resistance\",\n",
        "    resistance_type == \"efficacy_high_resistance\" ~ \"High Resistance\"\n",
        "  ))\n",
        "\n",
        "# Define legend order and colors to match output_1.png\n",
        "resistance_levels <- c(\"High Resistance\", \"Low Resistance\", \"No Resistance\")\n",
        "resistance_palette <- c(\n",
        "  \"High Resistance\" = \"#E64B35\",  # Red/pink\n",
        "  \"Low Resistance\"  = \"#4CAF50\",   # Green\n",
        "  \"No Resistance\"  = \"#2196F3\"    # Blue\n",
        ")\n",
        "\n",
        "efficacy_plot <- efficacy_data %>%\n",
        "  mutate(resistance_type = factor(resistance_type, levels = resistance_levels)) %>%\n",
        "  ggplot(aes(x = time, y = efficacy, color = resistance_type)) +\n",
        "  geom_line(linewidth = 1.6) +\n",
        "  labs(\n",
        "    title = \"ITN Efficacy Over Time\",\n",
        "    subtitle = \"Effect of Insecticide Resistance on Net Effectiveness\",\n",
        "    x = \"Time (days)\", \n",
        "    y = \"ITN Efficacy\", \n",
        "    color = \"Resistance Level\"\n",
        "  ) +\n",
        "  scale_color_manual(values = resistance_palette, breaks = resistance_levels) +\n",
        "  ylim(0.5, 0.9) +\n",
        "  theme_minimal() + \n",
        "  theme(\n",
        "    legend.position = \"bottom\",\n",
        "    legend.direction = \"horizontal\",\n",
        "    legend.title = element_text(face = \"bold\"),\n",
        "    axis.title = element_text(face = \"bold\"),\n",
        "    plot.title = element_text(size = 14, face = \"bold\"),\n",
        "    plot.subtitle = element_text(size = 12)\n",
        "  ) +\n",
        "  guides(color = guide_legend(override.aes = list(linewidth = 2)))\n",
        "\n",
        "print(efficacy_plot)\n"
      ]
    },
    {
      "cell_type": "markdown",
      "metadata": {},
      "source": [
        "## 7. Summary Statistics and Analysis\n",
        "\n",
        "We calculate key statistics to quantify the effectiveness of ITNs under different resistance scenarios.\n"
      ]
    },
    {
      "cell_type": "code",
      "execution_count": 21,
      "metadata": {
        "vscode": {
          "languageId": "r"
        }
      },
      "outputs": [
        {
          "name": "stdout",
          "output_type": "stream",
          "text": [
            "Summary Statistics:\n",
            "==================\n",
            "\u001b[90m# A tibble: 4 × 10\u001b[39m\n",
            "  scenario               max_infected_humans mean_infected_humans\n",
            "  \u001b[3m\u001b[90m<chr>\u001b[39m\u001b[23m                                \u001b[3m\u001b[90m<dbl>\u001b[39m\u001b[23m                \u001b[3m\u001b[90m<dbl>\u001b[39m\u001b[23m\n",
            "\u001b[90m1\u001b[39m ITNs (High Resistance)               \u001b[4m2\u001b[24m990.                 566.\n",
            "\u001b[90m2\u001b[39m ITNs (Low Resistance)                \u001b[4m1\u001b[24m070.                 182.\n",
            "\u001b[90m3\u001b[39m ITNs (No Resistance)                 \u001b[4m1\u001b[24m059.                 128.\n",
            "\u001b[90m4\u001b[39m No ITNs                             \u001b[4m1\u001b[24m\u001b[4m3\u001b[24m396.                \u001b[4m6\u001b[24m704.\n",
            "  total_infected_humans max_infected_vectors mean_infected_vectors\n",
            "                  \u001b[3m\u001b[90m<dbl>\u001b[39m\u001b[23m                \u001b[3m\u001b[90m<dbl>\u001b[39m\u001b[23m                 \u001b[3m\u001b[90m<dbl>\u001b[39m\u001b[23m\n",
            "\u001b[90m1\u001b[39m               \u001b[4m2\u001b[24m\u001b[4m0\u001b[24m\u001b[4m6\u001b[24m676.               \u001b[4m1\u001b[24m\u001b[4m3\u001b[24m199.                 \u001b[4m2\u001b[24m845.\n",
            "\u001b[90m2\u001b[39m                \u001b[4m6\u001b[24m\u001b[4m6\u001b[24m501.               \u001b[4m1\u001b[24m\u001b[4m0\u001b[24m000                  \u001b[4m1\u001b[24m196.\n",
            "\u001b[90m3\u001b[39m                \u001b[4m4\u001b[24m\u001b[4m6\u001b[24m776.               \u001b[4m1\u001b[24m\u001b[4m0\u001b[24m000                   954.\n",
            "\u001b[90m4\u001b[39m              2\u001b[4m4\u001b[24m\u001b[4m4\u001b[24m\u001b[4m7\u001b[24m128.              \u001b[4m1\u001b[24m\u001b[4m5\u001b[24m\u001b[4m3\u001b[24m855.                \u001b[4m6\u001b[24m\u001b[4m5\u001b[24m325.\n",
            "  diff_total_infected_vs_no_itn diff_mean_infected_vs_no_itn\n",
            "                          \u001b[3m\u001b[90m<dbl>\u001b[39m\u001b[23m                        \u001b[3m\u001b[90m<dbl>\u001b[39m\u001b[23m\n",
            "\u001b[90m1\u001b[39m                     -\u001b[31m2\u001b[4m2\u001b[24m\u001b[4m4\u001b[24m\u001b[39m\u001b[31m\u001b[4m0\u001b[24m453\u001b[39m\u001b[31m.\u001b[39m                       -\u001b[31m\u001b[4m6\u001b[24m13\u001b[39m\u001b[31m8\u001b[39m\u001b[31m.\u001b[39m\n",
            "\u001b[90m2\u001b[39m                     -\u001b[31m2\u001b[4m3\u001b[24m\u001b[4m8\u001b[24m\u001b[39m\u001b[31m\u001b[4m0\u001b[24m628\u001b[39m\u001b[31m.\u001b[39m                       -\u001b[31m\u001b[4m6\u001b[24m52\u001b[39m\u001b[31m2\u001b[39m\u001b[31m.\u001b[39m\n",
            "\u001b[90m3\u001b[39m                     -\u001b[31m2\u001b[4m4\u001b[24m\u001b[4m0\u001b[24m\u001b[39m\u001b[31m\u001b[4m0\u001b[24m352\u001b[39m\u001b[31m.\u001b[39m                       -\u001b[31m\u001b[4m6\u001b[24m57\u001b[39m\u001b[31m6\u001b[39m\u001b[31m.\u001b[39m\n",
            "\u001b[90m4\u001b[39m                            0                            0 \n",
            "  peak_reduction_percent mean_reduction_percent\n",
            "                   \u001b[3m\u001b[90m<dbl>\u001b[39m\u001b[23m                  \u001b[3m\u001b[90m<dbl>\u001b[39m\u001b[23m\n",
            "\u001b[90m1\u001b[39m                   91.6                   91.6\n",
            "\u001b[90m2\u001b[39m                   97.3                   97.3\n",
            "\u001b[90m3\u001b[39m                   98.1                   98.1\n",
            "\u001b[90m4\u001b[39m                    0                      0  \n",
            "\n",
            "Formatted Summary Table:\n",
            "========================\n"
          ]
        },
        {
          "data": {
            "text/plain": [
              "\n",
              "\n",
              "Table: Summary Statistics of ITN Scenarios\n",
              "\n",
              "|scenario               | max_infected_humans| mean_infected_humans| total_infected_humans| max_infected_vectors| mean_infected_vectors| diff_total_infected_vs_no_itn| diff_mean_infected_vs_no_itn| peak_reduction_percent| mean_reduction_percent|\n",
              "|:----------------------|-------------------:|--------------------:|---------------------:|--------------------:|---------------------:|-----------------------------:|----------------------------:|----------------------:|----------------------:|\n",
              "|ITNs (High Resistance) |                2990|                566.2|                206676|                13199|                2844.5|                      -2240453|                        -6138|                   91.6|                   91.6|\n",
              "|ITNs (Low Resistance)  |                1070|                182.2|                 66501|                10000|                1196.4|                      -2380628|                        -6522|                   97.3|                   97.3|\n",
              "|ITNs (No Resistance)   |                1059|                128.2|                 46776|                10000|                 953.7|                      -2400352|                        -6576|                   98.1|                   98.1|\n",
              "|No ITNs                |               13396|               6704.5|               2447128|               153855|               65324.8|                             0|                            0|                    0.0|                    0.0|"
            ]
          },
          "metadata": {},
          "output_type": "display_data"
        }
      ],
      "source": [
        "# Calculate summary statistics\n",
        "summary_stats <- all_results %>%\n",
        "  group_by(scenario) %>%\n",
        "  summarise(\n",
        "    max_infected_humans = max(Ih),\n",
        "    mean_infected_humans = mean(Ih),\n",
        "    total_infected_humans = sum(Ih),\n",
        "    max_infected_vectors = max(Iv),\n",
        "    mean_infected_vectors = mean(Iv),\n",
        "    .groups = \"drop\"\n",
        "  )\n",
        "\n",
        "# Baseline comparison\n",
        "baseline_total_infected <- summary_stats$total_infected_humans[summary_stats$scenario == \"No ITNs\"]\n",
        "baseline_mean_infected <- summary_stats$mean_infected_humans[summary_stats$scenario == \"No ITNs\"]\n",
        "\n",
        "summary_stats <- summary_stats %>%\n",
        "  mutate(\n",
        "    diff_total_infected_vs_no_itn = total_infected_humans - baseline_total_infected,\n",
        "    diff_mean_infected_vs_no_itn = mean_infected_humans - baseline_mean_infected,\n",
        "    peak_reduction_percent = round((baseline_total_infected - total_infected_humans) / baseline_total_infected * 100, 1),\n",
        "    mean_reduction_percent = round((baseline_mean_infected - mean_infected_humans) / baseline_mean_infected * 100, 1)\n",
        "  )\n",
        "\n",
        "# Display summary statistics\n",
        "cat(\"Summary Statistics:\\n\")\n",
        "cat(\"==================\\n\")\n",
        "print(summary_stats, width = Inf)\n",
        "\n",
        "# Create a formatted table\n",
        "if (requireNamespace(\"knitr\", quietly = TRUE)) {\n",
        "  cat(\"\\nFormatted Summary Table:\\n\")\n",
        "  cat(\"========================\\n\")\n",
        "  knitr::kable(summary_stats,\n",
        "               caption = \"Summary Statistics of ITN Scenarios\",\n",
        "               format = \"pipe\",\n",
        "               digits = 2)\n",
        "}\n"
      ]
    },
    {
      "cell_type": "markdown",
      "metadata": {},
      "source": [
        "## 8. Detailed Analysis and Conclusions\n",
        "\n",
        "Based on our simulation results, we analyze the effectiveness of ITNs and provide evidence-based recommendations.\n"
      ]
    },
    {
      "cell_type": "code",
      "execution_count": 22,
      "metadata": {
        "vscode": {
          "languageId": "r"
        }
      },
      "outputs": [
        {
          "name": "stdout",
          "output_type": "stream",
          "text": [
            "\n",
            " ============================================================ \n",
            "ANALYSIS: ITN EFFECTIVENESS WITH RESISTANCE\n",
            "============================================================ \n",
            "\n",
            "1. ITN EFFECTIVENESS IN REDUCING MALARIA INCIDENCE:\n",
            "   - No ITNs: Peak infected humans = 13396 \n",
            "   - ITNs (No Resistance): Peak = 1059  ( 92.1 % reduction)\n",
            "   - ITNs (Low Resistance): Peak = 1070  ( 92 % reduction)\n",
            "   - ITNs (High Resistance): Peak = 2990  ( 77.7 % reduction)\n",
            "\n",
            "2. RESISTANCE IMPACT:\n",
            "   - Resistance reduces ITN effectiveness by 14.4 percentage points\n",
            "   - Even with high resistance, ITNs still provide 77.7 % reduction in peak infections\n",
            "\n",
            "3. RECOMMENDATION:\n",
            "   ✓ YES - ITNs should still be used even with resistance\n",
            "\n",
            "4. ADDITIONAL CONSIDERATIONS:\n",
            "   - ITN coverage: 80 %\n",
            "   - Initial ITN efficacy: 90 %\n",
            "   - Resistance rate: 10 % per year\n",
            "   - After 5 years, ITN efficacy drops to: 54.6 %\n"
          ]
        }
      ],
      "source": [
        "# Extract key values for analysis\n",
        "no_itn_max <- summary_stats$max_infected_humans[summary_stats$scenario == \"No ITNs\"]\n",
        "itn_no_resistance_max <- summary_stats$max_infected_humans[summary_stats$scenario == \"ITNs (No Resistance)\"]\n",
        "itn_low_resistance_max <- summary_stats$max_infected_humans[summary_stats$scenario == \"ITNs (Low Resistance)\"]\n",
        "itn_high_resistance_max <- summary_stats$max_infected_humans[summary_stats$scenario == \"ITNs (High Resistance)\"]\n",
        "\n",
        "# Calculate reductions\n",
        "reduction_no_resistance <- (no_itn_max - itn_no_resistance_max) / no_itn_max * 100\n",
        "reduction_low_resistance <- (no_itn_max - itn_low_resistance_max) / no_itn_max * 100\n",
        "reduction_high_resistance <- (no_itn_max - itn_high_resistance_max) / no_itn_max * 100\n",
        "\n",
        "# Print detailed analysis\n",
        "cat(\"\\n\", paste(rep(\"=\", 60), collapse=\"\"), \"\\n\")\n",
        "cat(\"ANALYSIS: ITN EFFECTIVENESS WITH RESISTANCE\\n\")\n",
        "cat(paste(rep(\"=\", 60), collapse=\"\"), \"\\n\")\n",
        "\n",
        "cat(\"\\n1. ITN EFFECTIVENESS IN REDUCING MALARIA INCIDENCE:\\n\")\n",
        "cat(\"   - No ITNs: Peak infected humans =\", round(no_itn_max, 0), \"\\n\")\n",
        "cat(\"   - ITNs (No Resistance): Peak =\", round(itn_no_resistance_max, 0),\n",
        "    \" (\", round(reduction_no_resistance, 1), \"% reduction)\\n\")\n",
        "cat(\"   - ITNs (Low Resistance): Peak =\", round(itn_low_resistance_max, 0),\n",
        "    \" (\", round(reduction_low_resistance, 1), \"% reduction)\\n\")\n",
        "cat(\"   - ITNs (High Resistance): Peak =\", round(itn_high_resistance_max, 0),\n",
        "    \" (\", round(reduction_high_resistance, 1), \"% reduction)\\n\\n\")\n",
        "\n",
        "cat(\"2. RESISTANCE IMPACT:\\n\")\n",
        "cat(\"   - Resistance reduces ITN effectiveness by\", round(reduction_no_resistance - reduction_high_resistance, 1), \"percentage points\\n\")\n",
        "cat(\"   - Even with high resistance, ITNs still provide\", round(reduction_high_resistance, 1), \"% reduction in peak infections\\n\\n\")\n",
        "\n",
        "cat(\"3. RECOMMENDATION:\\n\")\n",
        "if (reduction_high_resistance > 20) {\n",
        "  cat(\"   ✓ YES - ITNs should still be used even with resistance\\n\")\n",
        "} else if (reduction_high_resistance > 10) {\n",
        "  cat(\"   ⚠ MODERATE - ITNs provide some benefit but limited effectiveness\\n\")\n",
        "} else {\n",
        "  cat(\"   ✗ NO - ITNs may not be cost-effective with high resistance\\n\")\n",
        "}\n",
        "\n",
        "cat(\"\\n4. ADDITIONAL CONSIDERATIONS:\\n\")\n",
        "cat(\"   - ITN coverage:\", round(itn_coverage * 100, 0), \"%\\n\")\n",
        "cat(\"   - Initial ITN efficacy:\", round(itn_efficacy * 100, 0), \"%\\n\")\n",
        "cat(\"   - Resistance rate:\", round(resistance_rate * 100, 1), \"% per year\\n\")\n",
        "cat(\"   - After 5 years, ITN efficacy drops to:\", round(itn_efficacy * exp(-resistance_rate * 5) * 100, 1), \"%\\n\")\n"
      ]
    },
    {
      "cell_type": "markdown",
      "metadata": {},
      "source": [
        "## 9. Model Validation and Sensitivity Analysis\n",
        "\n",
        "We perform additional analysis to validate our model and check for potential issues.\n"
      ]
    },
    {
      "cell_type": "code",
      "execution_count": 23,
      "metadata": {
        "vscode": {
          "languageId": "r"
        }
      },
      "outputs": [
        {
          "name": "stdout",
          "output_type": "stream",
          "text": [
            "Model Validation:\n",
            "================\n",
            "\n",
            " No ITNs :\n",
            "  Human population conserved: TRUE \n",
            "  Vector population range: 400000 - 498966 \n",
            "  Final human population: 200000 \n",
            "  Final vector population: 465021 \n",
            "\n",
            " ITNs (No Resistance) :\n",
            "  Human population conserved: TRUE \n",
            "  Vector population range: 400000 - 498966 \n",
            "  Final human population: 200000 \n",
            "  Final vector population: 465021 \n",
            "\n",
            " ITNs (Low Resistance) :\n",
            "  Human population conserved: TRUE \n",
            "  Vector population range: 400000 - 498966 \n",
            "  Final human population: 200000 \n",
            "  Final vector population: 465021 \n",
            "\n",
            " ITNs (High Resistance) :\n",
            "  Human population conserved: TRUE \n",
            "  Vector population range: 400000 - 498966 \n",
            "  Final human population: 200000 \n",
            "  Final vector population: 465021 \n",
            "\n",
            "Reproduction Numbers:\n",
            "=====================\n",
            "Basic reproduction number (R0): 2 \n",
            "Effective R0 with ITNs (no resistance): 0.56 \n",
            "Effective R0 with ITNs (high resistance, year 5): 1.13 \n",
            "\n",
            "Data Quality Checks:\n",
            "====================\n",
            "Any negative values in human compartments: FALSE \n",
            "Any negative values in vector compartments: FALSE \n",
            "Any infinite values: FALSE \n",
            "Any NA values: FALSE \n"
          ]
        }
      ],
      "source": [
        "# Check population conservation\n",
        "cat(\"Model Validation:\\n\")\n",
        "cat(\"================\\n\")\n",
        "\n",
        "for (scenario in unique(all_results$scenario)) {\n",
        "  data <- all_results[all_results$scenario == scenario, ]\n",
        "  \n",
        "  # Check human population conservation\n",
        "  total_humans <- data$Sh + data$Ih + data$Rh\n",
        "  human_conservation <- all.equal(total_humans, rep(Nh, length(total_humans)), tolerance = 1e-6)\n",
        "  \n",
        "  # Check vector population dynamics\n",
        "  total_vectors <- data$Sv + data$Iv\n",
        "  vector_range <- c(min(total_vectors), max(total_vectors))\n",
        "  \n",
        "  cat(\"\\n\", scenario, \":\\n\")\n",
        "  cat(\"  Human population conserved:\", isTRUE(human_conservation), \"\\n\")\n",
        "  cat(\"  Vector population range:\", round(vector_range[1], 0), \"-\", round(vector_range[2], 0), \"\\n\")\n",
        "  cat(\"  Final human population:\", round(total_humans[length(total_humans)], 0), \"\\n\")\n",
        "  cat(\"  Final vector population:\", round(total_vectors[length(total_vectors)], 0), \"\\n\")\n",
        "}\n",
        "\n",
        "# Calculate basic reproduction number\n",
        "cat(\"\\nReproduction Numbers:\\n\")\n",
        "cat(\"=====================\\n\")\n",
        "cat(\"Basic reproduction number (R0):\", R0, \"\\n\")\n",
        "cat(\"Effective R0 with ITNs (no resistance):\", round(R0 * (1 - itn_coverage * itn_efficacy), 2), \"\\n\")\n",
        "cat(\"Effective R0 with ITNs (high resistance, year 5):\", \n",
        "    round(R0 * (1 - itn_coverage * itn_efficacy * exp(-resistance_rate * 5)), 2), \"\\n\")\n",
        "\n",
        "# Check for negative values (should not occur)\n",
        "cat(\"\\nData Quality Checks:\\n\")\n",
        "cat(\"====================\\n\")\n",
        "cat(\"Any negative values in human compartments:\", any(all_results[, 2:4] < 0), \"\\n\")\n",
        "cat(\"Any negative values in vector compartments:\", any(all_results[, 5:6] < 0), \"\\n\")\n",
        "cat(\"Any infinite values:\", any(is.infinite(as.matrix(all_results[, 2:6]))), \"\\n\")\n",
        "cat(\"Any NA values:\", any(is.na(all_results[, 2:6])), \"\\n\")\n"
      ]
    },
    {
      "cell_type": "markdown",
      "metadata": {},
      "source": [
        "## 10. Export Results and Final Summary\n",
        "\n",
        "We save our results for further analysis and provide a comprehensive summary of our findings.\n"
      ]
    },
    {
      "cell_type": "code",
      "execution_count": 24,
      "metadata": {
        "vscode": {
          "languageId": "r"
        }
      },
      "outputs": [
        {
          "name": "stdout",
          "output_type": "stream",
          "text": [
            "Results saved to:\n",
            "  - malaria_simulation_results.csv\n",
            "  - malaria_summary_statistics.csv\n",
            "\n",
            "Final Summary:\n",
            "==============\n",
            "Model successfully simulated 365 time points over 5 years\n",
            "Four scenarios analyzed: No ITNs, ITNs (No Resistance), ITNs (Low Resistance), ITNs (High Resistance) \n",
            "Peak infection reduction with ITNs: 77.7 % (high resistance)\n",
            "Peak infection reduction with ITNs: 92.1 % (no resistance)\n",
            "\n",
            "Key Findings:\n",
            "=============\n",
            "1. ITNs provide significant malaria reduction even with resistance\n",
            "2. Resistance reduces effectiveness by 14.4 percentage points\n",
            "3. After 5 years, ITN efficacy drops to 54.6 %\n",
            "4. Model validation: All population conservation checks passed\n",
            "\n",
            "Recommendation: Continue ITN programs even with resistance\n"
          ]
        }
      ],
      "source": [
        "# Save results to CSV files\n",
        "write.csv(all_results, \"malaria_simulation_results.csv\", row.names = FALSE)\n",
        "write.csv(summary_stats, \"malaria_summary_statistics.csv\", row.names = FALSE)\n",
        "\n",
        "cat(\"Results saved to:\\n\")\n",
        "cat(\"  - malaria_simulation_results.csv\\n\")\n",
        "cat(\"  - malaria_summary_statistics.csv\\n\")\n",
        "\n",
        "# Display final summary\n",
        "cat(\"\\nFinal Summary:\\n\")\n",
        "cat(\"==============\\n\")\n",
        "cat(\"Model successfully simulated\", length(dt), \"time points over\", round(max(dt)/365, 1), \"years\\n\")\n",
        "cat(\"Four scenarios analyzed:\", paste(unique(all_results$scenario), collapse = \", \"), \"\\n\")\n",
        "cat(\"Peak infection reduction with ITNs:\", round(reduction_high_resistance, 1), \"% (high resistance)\\n\")\n",
        "cat(\"Peak infection reduction with ITNs:\", round(reduction_no_resistance, 1), \"% (no resistance)\\n\")\n",
        "\n",
        "# Key findings\n",
        "cat(\"\\nKey Findings:\\n\")\n",
        "cat(\"=============\\n\")\n",
        "cat(\"1. ITNs provide significant malaria reduction even with resistance\\n\")\n",
        "cat(\"2. Resistance reduces effectiveness by\", round(reduction_no_resistance - reduction_high_resistance, 1), \"percentage points\\n\")\n",
        "cat(\"3. After 5 years, ITN efficacy drops to\", round(itn_efficacy * exp(-resistance_rate * 5) * 100, 1), \"%\\n\")\n",
        "cat(\"4. Model validation: All population conservation checks passed\\n\")\n",
        "\n",
        "cat(\"\\nRecommendation: \", sep = \"\")\n",
        "if (reduction_high_resistance > 20) {\n",
        "  cat(\"Continue ITN programs even with resistance\\n\")\n",
        "} else if (reduction_high_resistance > 10) {\n",
        "  cat(\"Consider ITN programs with monitoring of resistance\\n\")\n",
        "} else {\n",
        "  cat(\"Evaluate cost-effectiveness of ITN programs with high resistance\\n\")\n",
        "}\n"
      ]
    }
  ],
  "metadata": {
    "kernelspec": {
      "display_name": "R 4.5.1",
      "language": "R",
      "name": "ir451"
    },
    "language_info": {
      "codemirror_mode": "r",
      "file_extension": ".r",
      "mimetype": "text/x-r-source",
      "name": "R",
      "pygments_lexer": "r",
      "version": "4.5.1"
    }
  },
  "nbformat": 4,
  "nbformat_minor": 2
}
